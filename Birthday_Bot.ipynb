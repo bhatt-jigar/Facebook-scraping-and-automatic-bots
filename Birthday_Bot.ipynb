{
 "cells": [
  {
   "cell_type": "code",
   "execution_count": 9,
   "metadata": {},
   "outputs": [
    {
     "name": "stdout",
     "output_type": "stream",
     "text": [
      "Enter User Id of your Fb Account :abc@gmail.com\n",
      "Enter the password :xyz123\n",
      "abc@gmail.com\n",
      "xyz123\n"
     ]
    }
   ],
   "source": [
    "from selenium import webdriver\n",
    "import time\n",
    "from selenium.webdriver.common.keys import Keys\n",
    "\n",
    "user_id=input('Enter User Id of your Fb Account :')  # Take user id and password as input from the user\n",
    "password=input('Enter the password :')\n",
    "\n",
    "print(user_id)\n",
    "print(password)"
   ]
  },
  {
   "cell_type": "code",
   "execution_count": 10,
   "metadata": {},
   "outputs": [],
   "source": [
    "browser = webdriver.Chrome(\"C:\\\\Users\\\\jbhat\\\\Downloads\\\\ChromeDriver\\\\chromedriver.exe\")\n",
    "#path to your webdriver\n",
    "\n",
    "browser.get(\"https://www.facebook.com/\")\n",
    "\n",
    "user_box = browser.find_element_by_id(\"email\")       # For detecting the user id box from html\n",
    "user_box.send_keys(user_id)                                               # Enter the user id in the box \n",
    "\n",
    "password_box = browser.find_element_by_id(\"pass\")    # For detecting the password box from html\n",
    "password_box.send_keys(password)                                          # For detecting the password in the box\n",
    "\n",
    "login_box = browser.find_element_by_id(\"u_0_b\")      # For detecting the Login button\n",
    "login_box.click()\n",
    "\n",
    "\n",
    "time.sleep(50)\n",
    "\n",
    "x='//*[@id=\"home_birthdays\"]/div/div/div/div/a/div/div/span/span[2]'\n",
    "n=browser.find_element_by_xpath(x).get_attribute('textContent')\n",
    " # To get the number of friends to be wished\n",
    "num=n[0]\n",
    "num=int(num)\n",
    "print(num)\n",
    "\n",
    "\n",
    "message= \"Happy Birthday !!\"\n",
    "browser.get('https://www.facebook.com/events/birthdays/') \n",
    "#time.sleep(3)\n",
    "\n",
    "bday_list=browser.find_elements_by_xpath(\"//*[@class ='enter_submit uiTextareaNoResize uiTextareaAutogrow uiStreamInlineTextarea inlineReplyTextArea mentionsTextarea textInput']\") \n",
    "\n",
    "\n",
    "\n",
    "\n",
    "time.sleep(20)\n",
    "\n",
    "x='//*[@id=\"home_birthdays\"]/div/div/div/div/a/div/div/span/span[2]'\n",
    "n=browser.find_element_by_xpath(x).get_attribute('textContent')\n",
    " # To get the number of friends to be wished\n",
    "num=n[0]\n",
    "num=int(num)\n",
    "print(num)\n",
    "\n",
    "\n",
    "message= \"Happy Birthday !!\"\n",
    "browser.get('https://www.facebook.com/events/birthdays/') \n",
    "#time.sleep(3)\n",
    "\n",
    "bday_list=browser.find_elements_by_xpath(\"//*[@class ='enter_submit uiTextareaNoResize uiTextareaAutogrow uiStreamInlineTextarea inlineReplyTextArea mentionsTextarea textInput']\") \n",
    "\n"
   ]
  }
 ],
 "metadata": {
  "kernelspec": {
   "display_name": "Python 3",
   "language": "python",
   "name": "python3"
  },
  "language_info": {
   "codemirror_mode": {
    "name": "ipython",
    "version": 3
   },
   "file_extension": ".py",
   "mimetype": "text/x-python",
   "name": "python",
   "nbconvert_exporter": "python",
   "pygments_lexer": "ipython3",
   "version": "3.7.1"
  }
 },
 "nbformat": 4,
 "nbformat_minor": 2
}
