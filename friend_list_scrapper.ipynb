{
 "cells": [
  {
   "cell_type": "markdown",
   "metadata": {},
   "source": [
    "### BeautifulSoup\n",
    "BeautifulSoup is a python package which parses HTML documents for web scraping.\n",
    "\n",
    "#### Webdriver\n",
    "Webdriver is an open tool used by selenium which makes connection between your program and any website.\n",
    "Download webrive depending on your browser and its version. Here I used chrome so i downloaded chrome version"
   ]
  },
  {
   "cell_type": "code",
   "execution_count": 7,
   "metadata": {},
   "outputs": [
    {
     "name": "stdout",
     "output_type": "stream",
     "text": [
      "Enter User Id of your Fb Account :jigarbhatt\n",
      "Enter the password :Kana28294\n",
      "jigarbhatt\n",
      "Kana28294\n"
     ]
    }
   ],
   "source": [
    "from selenium import webdriver\n",
    "import time\n",
    "from selenium.webdriver.common.keys import Keys\n",
    "from bs4 import BeautifulSoup\n",
    "\n",
    "\n",
    "user_id=input('Enter User Id of your Fb Account :')  # Take user id and password as input from the user\n",
    "password=input('Enter the password :')\n",
    "\n",
    "print(user_id)\n",
    "print(password)"
   ]
  },
  {
   "cell_type": "code",
   "execution_count": 11,
   "metadata": {},
   "outputs": [],
   "source": [
    "browser= webdriver.Chrome(\"C:\\\\Users\\\\ChromeDriver\\\\chromedriver.exe\") \n",
    "browser.get('https://www.facebook.com/')\n",
    "\n",
    "\n",
    "user_box = browser.find_element_by_id(\"email\")       # For detecting the user id box\n",
    "user_box.send_keys(user_id)                                               # Enter the user id in the box \n",
    "\n",
    "password_box = browser.find_element_by_id(\"pass\")    # For detecting the password box\n",
    "password_box.send_keys(password)                                          # For detecting the password in the box\n",
    "\n",
    "login_box = browser.find_element_by_id(\"u_0_b\")      # For detecting the Login button\n",
    "login_box.click()                                                         # To click on the login box\n",
    "\n",
    "time.sleep(20)\n",
    "\n",
    "\n",
    "pro=browser.find_element_by_xpath('//a[@class=\"_2s25 _606w\"]')\n",
    "pro.click()\n",
    "\n",
    "time.sleep(4)\n",
    "fr=browser.find_element_by_xpath('//ul[@class=\"_6_7 clearfix\"]/li[3]/a')\n",
    "fr.click()\n",
    "\n",
    "while True:\n",
    "    browser.execute_script('window.scrollTo(0,document.body.scrollHeight);')\n",
    "    time.sleep(0.1)\n",
    "    browser.execute_script('window.scrollTo(0,0);')\n",
    "    time.sleep(0.1)\n",
    "    try:\n",
    "        exit_control=browser.find_element_by_xpath(\"//*[contains(text(), 'More about you')]\")\n",
    "        break\n",
    "    except:\n",
    "        continue\n",
    "\n",
    "ps=browser.page_source\n",
    "soup=BeautifulSoup(ps,'html.parser')\n",
    "\n",
    "flist=soup.find('div',{'class':'_3i9'})\n",
    "\n",
    "friends=[]\n",
    "for i in flist.findAll('a'):\n",
    "    friends.append(i.text)\n",
    "\n",
    "\n",
    "\n",
    "names_list=[]\n",
    "for name in friends:\n",
    "    if(name=='FriendFriends'):\n",
    "        continue\n",
    "    if('friends' in name):\n",
    "        continue\n",
    "    if(name==''):\n",
    "        continue\n",
    "    else:\n",
    "        names_list.append(name)\n",
    "\n",
    "print(names_list)"
   ]
  }
 ],
 "metadata": {
  "kernelspec": {
   "display_name": "Python 3",
   "language": "python",
   "name": "python3"
  },
  "language_info": {
   "codemirror_mode": {
    "name": "ipython",
    "version": 3
   },
   "file_extension": ".py",
   "mimetype": "text/x-python",
   "name": "python",
   "nbconvert_exporter": "python",
   "pygments_lexer": "ipython3",
   "version": "3.7.1"
  }
 },
 "nbformat": 4,
 "nbformat_minor": 2
}
