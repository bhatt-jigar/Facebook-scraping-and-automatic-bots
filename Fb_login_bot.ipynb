{
 "cells": [
  {
   "cell_type": "markdown",
   "metadata": {},
   "source": [
    "#### Selenium\n",
    "Selenium is an open-source Web Automation Tool. Using selenium gives you the ability of controlling Web Browsers through your program\n",
    "\n",
    "#### Webdriver\n",
    "Webdriver is an open tool used by selenium which makes connection between your program and any website.\n",
    "Download webrive depending on your browser and its version. Here I used chrome so i downloaded chrome version"
   ]
  },
  {
   "cell_type": "code",
   "execution_count": 2,
   "metadata": {},
   "outputs": [],
   "source": [
    "from selenium import webdriver\n",
    "import time\n",
    "from selenium.webdriver.common.keys import Keys"
   ]
  },
  {
   "cell_type": "code",
   "execution_count": 9,
   "metadata": {},
   "outputs": [
    {
     "name": "stdout",
     "output_type": "stream",
     "text": [
      "Enter User Id of your Fb Account :xyz@gmail.com\n",
      "Enter the password :abc123\n",
      "xyz@gmail.com\n",
      "abc123\n"
     ]
    }
   ],
   "source": [
    "user_id=input('Enter User Id of your Fb Account :')  # Take user id and password as input from the user\n",
    "password=input('Enter the password :')\n",
    "\n",
    "print(user_id)\n",
    "print(password)"
   ]
  },
  {
   "cell_type": "code",
   "execution_count": 8,
   "metadata": {},
   "outputs": [],
   "source": [
    "browser = webdriver.Chrome(\"C:\\\\Users\\\\jbhat\\\\Downloads\\\\ChromeDriver\\\\chromedriver.exe\")\n",
    "#path to your webdriver\n",
    "\n",
    "browser.get(\"https://www.facebook.com/\")\n",
    "\n",
    "user_box = browser.find_element_by_id(\"email\")       # For detecting the user id box from html\n",
    "user_box.send_keys(user_id)                                               # Enter the user id in the box \n",
    "\n",
    "password_box = browser.find_element_by_id(\"pass\")    # For detecting the password box from html\n",
    "password_box.send_keys(password)                                          # For detecting the password in the box\n",
    "\n",
    "login_box = browser.find_element_by_id(\"u_0_b\")      # For detecting the Login button\n",
    "login_box.click()"
   ]
  }
 ],
 "metadata": {
  "kernelspec": {
   "display_name": "Python 3",
   "language": "python",
   "name": "python3"
  },
  "language_info": {
   "codemirror_mode": {
    "name": "ipython",
    "version": 3
   },
   "file_extension": ".py",
   "mimetype": "text/x-python",
   "name": "python",
   "nbconvert_exporter": "python",
   "pygments_lexer": "ipython3",
   "version": "3.7.1"
  }
 },
 "nbformat": 4,
 "nbformat_minor": 2
}
